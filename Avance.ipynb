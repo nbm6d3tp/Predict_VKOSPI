{
 "cells": [
  {
   "cell_type": "code",
   "execution_count": null,
   "metadata": {
    "vscode": {
     "languageId": "plaintext"
    }
   },
   "outputs": [],
   "source": [
    "# Partie avancée\n",
    "The model might focus on absolute price levels, which are often less informative than price movements.\n",
    "\n",
    "#Valeur absolute de sous-jacent \"KOSPI200\", logiquement/financièrement, explique pas VKOSPI => Essayer d'effacer cette colonne là et le remplacer par les returns (%) d'un jour vs autre jour\n",
    "# df[\"Return_KOSPI200\"] = df[\"KOSPI200\"].pct_change()\n",
    "# print(df[\"Return_KOSPI200\"])\n",
    "\n",
    "# horizon = [2, 5, 30, 60]\n",
    "\n",
    "# new_predictors = []\n",
    "# for h in horizon:\n",
    "#     rolling_mean = df[\"KOSPI200\"].rolling(h).mean()\n",
    "#     ratio_column = f\"KOSPI200_Ratio_{h}\"\n",
    "#     df[ratio_column] = df[\"KOSPI200\"] / rolling_mean\n",
    "\n",
    "# df.head()\n",
    "\n",
    "\n",
    "# explore_column(df, \"KOSPI200_Ratio_60\", \"VKOSPI\")\n",
    "\n",
    "\n",
    "df[\"Month\"] = df.index.month\n",
    "df.head()\n",
    "\n",
    "make_violin_plot(\"Month\")\n",
    "\n",
    "df = pd.get_dummies(df, columns=[\"Month\"])\n",
    "df.head()\n",
    "\n",
    "X = df.drop(\"VKOSPI\", axis=1)\n",
    "y = df[\"VKOSPI\"]\n",
    "\n",
    "train_predict(X, y, \"Après one hot encoding sur les mois\", metric=RMSE, cv=10)"
   ]
  },
  {
   "cell_type": "code",
   "execution_count": null,
   "metadata": {
    "vscode": {
     "languageId": "plaintext"
    }
   },
   "outputs": [],
   "source": [
    "Add features: technical indicators\n",
    "RSI, NATR, ADX, NORM_MIDDLE"
   ]
  },
  {
   "cell_type": "markdown",
   "metadata": {},
   "source": [
    "Explorer corrélation entre les données\n"
   ]
  },
  {
   "cell_type": "code",
   "execution_count": null,
   "metadata": {
    "vscode": {
     "languageId": "plaintext"
    }
   },
   "outputs": [],
   "source": [
    "n_estimators_grid = np.linspace(50, 200, 10, dtype=int)\n",
    "score_result = []\n",
    "for n_estimators in n_estimators_grid:\n",
    "    scores = train_predict(\n",
    "        X, y, \"Random Forest\", metric=RMSE, cv=10, n_estimators=n_estimators\n",
    "    )\n",
    "    score_result.append(np.mean(scores))\n",
    "\n",
    "plt.figure(figsize=(15, 8))\n",
    "plt.plot(n_estimators_grid, score_result, \"o-\")\n",
    "plt.xlabel(r\"Pénalisation $\\lambda$ pour la régression Ridge\")\n",
    "plt.ylabel(\"Performance (RMSE)\")\n",
    "plt.title(r\"Performance de la régression Ridge en fonction de la pénalisation $L_2$\")\n",
    "plt.show()"
   ]
  },
  {
   "cell_type": "code",
   "execution_count": null,
   "metadata": {
    "vscode": {
     "languageId": "plaintext"
    }
   },
   "outputs": [],
   "source": [
    "## Supprimer column KOSPI200 + ajouter columns de returns sur différent horizon\n",
    "\n",
    "Nỗi sợ của mọi người ko bị ảnh hưởng bởi việc giá chính xác của ngày hôm đấy là bao nhiêu, mà là giá của ngày hôm đấy so với những ngày trước đấy\n",
    "horizon = [2, 5, 30, 60]\n",
    "Thí dụ khi mua stock, mn sẽ muốn mua khi giá đã tăng/giảm so với những ngày trước, trend đang tăng, giảm\n",
    "df[\"Returns\"] = df[\"KOSPI200\"].pct_change()\n",
    "\n",
    "\n",
    "def count_positive_returns(returns):\n",
    "    return (returns > 0).sum()\n",
    "\n",
    "\n",
    "new_predictors = []\n",
    "for h in horizon:\n",
    "    rolling_mean = df[\"KOSPI200\"].rolling(h).mean()\n",
    "    ratio_column = f\"KOSPI200_Ratio_{h}\"\n",
    "    df[ratio_column] = df[\"KOSPI200\"] / rolling_mean\n",
    "\n",
    "    df[\"KOSPI200\"].shift(h)\n",
    "    trend_column = f\"KOSPI200_Trend_{h}\"\n",
    "    df[trend_column] = (\n",
    "        df[\"Returns\"].shift(1).rolling(h).apply(count_positive_returns, raw=True)\n",
    "    )\n",
    "\n",
    "df.dropna(inplace=True)\n",
    "df.drop(columns=[\"Returns\"], inplace=True)\n",
    "df.drop(columns=[\"KOSPI200\"], inplace=True)\n",
    "df.head(50)\n",
    "\n",
    "X = df.drop(\"VKOSPI\", axis=1)\n",
    "y = df[\"VKOSPI\"]\n",
    "\n",
    "train_predict(X, y, \"Après ajouter des nouvelles variables\", metric=RMSE, cv=10)"
   ]
  },
  {
   "cell_type": "markdown",
   "metadata": {},
   "source": [
    "Them cot VKOSPI cua ngay hom qua\n"
   ]
  },
  {
   "cell_type": "code",
   "execution_count": null,
   "metadata": {
    "vscode": {
     "languageId": "plaintext"
    }
   },
   "outputs": [],
   "source": [
    "added_columns = [col for col in df.columns.tolist() if col not in original_columns]\n"
   ]
  },
  {
   "cell_type": "code",
   "execution_count": null,
   "metadata": {
    "vscode": {
     "languageId": "plaintext"
    }
   },
   "outputs": [],
   "source": [
    "from sklearn.preprocessing import StandardScaler\n",
    "from sklearn.decomposition import PCA\n",
    "from sklearn.ensemble import RandomForestClassifier\n",
    "from sklearn.model_selection import train_test_split\n",
    "\n",
    "# Assume `X` is your feature matrix\n",
    "scaler = StandardScaler()\n",
    "X_scaled = scaler.fit_transform(df[predictors])\n",
    "\n",
    "# Initialize PCA to retain 95% of explained variance\n",
    "pca = PCA(n_components=0.95)\n",
    "X_pca = pca.fit_transform(X_scaled)\n",
    "\n",
    "# Print explained variance ratio for each principal component\n",
    "print(\"Explained variance ratio:\", pca.explained_variance_ratio_)\n",
    "print(\"Number of components:\", pca.n_components_)\n",
    "\n",
    "train_predict(\n",
    "    pd.DataFrame(X_pca),\n",
    "    df[\"VKOSPI\"],\n",
    "    \"Après reduction de dimension\",\n",
    "    metric=RMSE,\n",
    "    cv=10,\n",
    ")"
   ]
  },
  {
   "cell_type": "code",
   "execution_count": null,
   "metadata": {
    "vscode": {
     "languageId": "plaintext"
    }
   },
   "outputs": [],
   "source": [
    "ps:Dans le marché des options KOSPI200, les options expirent généralement une fois par mois, la date d'expiration étant fixée au deuxième jeudi de chaque mois. Par conséquent, dans les données, la variable Day_till_expiration représente le nombre de jours restants avant la prochaine date d'expiration.\n",
    "Lorsque les options arrivent à expiration, tous les contrats ouverts non réglés sont automatiquement liquidés ou livrés. Ensuite, un nouveau contrat d'options est généré, avec une date d'expiration fixée au deuxième jeudi du mois suivant"
   ]
  },
  {
   "cell_type": "code",
   "execution_count": null,
   "metadata": {
    "vscode": {
     "languageId": "plaintext"
    }
   },
   "outputs": [],
   "source": [
    "## Analyse des Corrélations\n",
    "import numpy as np\n",
    "import pandas as pd\n",
    "import seaborn as sns\n",
    "import matplotlib.pyplot as plt\n",
    "\n",
    "# 计算相关性矩阵\n",
    "correlation_matrix = df.corr()\n",
    "\n",
    "plt.figure(figsize=(12, 10))\n",
    "sns.heatmap(\n",
    "    correlation_matrix, annot=True, fmt=\".2f\", square=True, cbar_kws={\"shrink\": 0.8}\n",
    ")\n",
    "plt.title(\"Correlation Matrix Heatmap\")\n",
    "plt.show()\n",
    "\n",
    "\n",
    "high_corr_pairs = correlation_matrix.unstack().sort_values(ascending=False)\n",
    "high_corr_pairs = high_corr_pairs[\n",
    "    (high_corr_pairs.abs() > 0.9) & (high_corr_pairs < 1.0)\n",
    "]\n",
    "\n",
    "print(\"Highly correlated pairs (|correlation| > 0.9):\")\n",
    "print(high_corr_pairs)\n",
    "\n",
    "- La variable **Day_of_a_week** ainsi que **Day_till_expiration** ont un coefficient de corrélation très faible avec **VKOSPI** et peuvent donc être supprimées.\n",
    "- **Indiv_Future_Netbuying_Quantity** et **For_Future_Netbuying_Quantity** présentent un coefficient de corrélation absolu relativement élevé de **-0,68** entre elles. Cependant, leur corrélation avec la colonne cible **VKOSPI** est très faible (**0,01**), ce qui permet de considérer leur suppression.\n"
   ]
  }
 ],
 "metadata": {
  "language_info": {
   "name": "python"
  }
 },
 "nbformat": 4,
 "nbformat_minor": 2
}
